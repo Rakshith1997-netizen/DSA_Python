{
 "cells": [
  {
   "cell_type": "code",
   "execution_count": 36,
   "metadata": {},
   "outputs": [],
   "source": [
    "class Node:\n",
    "    def __init__(self, Value):\n",
    "        self.value = Value\n",
    "        self.next = None"
   ]
  },
  {
   "cell_type": "code",
   "execution_count": 37,
   "metadata": {},
   "outputs": [],
   "source": [
    "class LinkedList:\n",
    "    def __init__(self):\n",
    "        self.head = None\n",
    "        \n",
    "    # o(n) Linear time    \n",
    "    def __repr__(self):\n",
    "        if self.head is None:\n",
    "            return \"[]\"\n",
    "        else:\n",
    "            last = self.head\n",
    "            return_string = f\"[{last.value}\"\n",
    "            \n",
    "            while last.next:\n",
    "                 last = last.next\n",
    "                 return_string += f\", {last.value}\"\n",
    "                 \n",
    "            return_string += \"]\"\n",
    "            return return_string \n",
    "                \n",
    "    \n",
    "    # o(n) Linear time\n",
    "    def __contains__(self, value):\n",
    "        last = self.head\n",
    "        while last.next is not None:\n",
    "            if last.value == value:\n",
    "                return True\n",
    "            last = last.next\n",
    "        \n",
    "        return False\n",
    "      \n",
    "    # o(n) Linear time\n",
    "    \n",
    "    def __len__(self):\n",
    "        last = self.head\n",
    "        count = 0\n",
    "        while last.next is not None:\n",
    "            last = last.next\n",
    "            count+=1\n",
    "            \n",
    "        return count  \n",
    "        \n",
    "    # o(n) Linear time\n",
    "    def append(self, value):\n",
    "        if self.head is None:\n",
    "            self.head = Node(value)\n",
    "        \n",
    "        else:\n",
    "            last = self.head\n",
    "            while last.next:\n",
    "                last = last.next\n",
    "            last.next = Node(value)\n",
    "    \n",
    "    # o(1) constant time        \n",
    "    def prepend(self, value):\n",
    "        first_node = Node(value)\n",
    "        first_node.next = self.head\n",
    "        self.head = first_node\n",
    "        \n",
    "    # o(n) - Linear time\n",
    "    def insert(self, value, index):\n",
    "        if index == 0:\n",
    "            self.prepend(value)\n",
    "        \n",
    "        else:\n",
    "            if self.head is None:\n",
    "                raise ValueError(\"Out of Index bounds\")\n",
    "            \n",
    "            else:\n",
    "                last = self.head\n",
    "                \n",
    "                for i in range(index-1):\n",
    "                    if last.next is None:\n",
    "                        raise ValueError(\"Out of Index bounds\")\n",
    "                    last = last.next\n",
    "                    \n",
    "                new_node = Node(value)\n",
    "                new_node.next = last.next\n",
    "                last.next = new_node\n",
    "                \n",
    "    def delete(self, value):\n",
    "        last = self.head\n",
    "        \n",
    "        if last is not None:\n",
    "            if last.value == value:\n",
    "                self.head = last.next\n",
    "                \n",
    "            else:\n",
    "                while last.next:\n",
    "                    if last.next.value == value:\n",
    "                        last.next = last.next.next\n",
    "                        break\n",
    "                    last = last.next  \n",
    "    \n",
    "    # o(n) - Linear time                \n",
    "    def pop(self, index):\n",
    "        if self.head is None:\n",
    "            raise ValueError(\"Out of index bounds\")\n",
    "        \n",
    "        else:\n",
    "            last = self.head\n",
    "            \n",
    "            for i in range(index-1):\n",
    "                if last.next is None:\n",
    "                    raise ValueError(\"Out of index bounds\")\n",
    "                last = last.next\n",
    "                \n",
    "            if last.next is None:\n",
    "                raise ValueError(\"Out of index bounds\")\n",
    "            \n",
    "            else:\n",
    "                last.next == last.next.next\n",
    "                \n",
    "                    \n",
    "    def get(self, index):\n",
    "        if self.head is None:\n",
    "            raise ValueError(\"out of index bounds\")\n",
    "        \n",
    "        else:\n",
    "            last = self.head\n",
    "            for i in range(index):\n",
    "                if last.next is None:\n",
    "                    raise ValueError(\"out of index bounds\")\n",
    "                \n",
    "                last = last.next\n",
    "                 \n",
    "            return last.value\n",
    "        \n",
    "        \n",
    "    \n",
    "\n",
    "                    \n",
    "            "
   ]
  },
  {
   "cell_type": "code",
   "execution_count": 38,
   "metadata": {},
   "outputs": [],
   "source": [
    "ll = LinkedList()\n",
    "\n",
    "ll.append(10)\n",
    "ll.append(20)\n",
    "ll.append(30)\n",
    "ll.append(40)\n",
    "ll.append(50)\n",
    "ll.append(60)"
   ]
  },
  {
   "cell_type": "code",
   "execution_count": 39,
   "metadata": {},
   "outputs": [
    {
     "data": {
      "text/plain": [
       "'[10, 20, 30, 40, 50, 60]'"
      ]
     },
     "execution_count": 39,
     "metadata": {},
     "output_type": "execute_result"
    }
   ],
   "source": [
    "ll.__repr__()"
   ]
  },
  {
   "cell_type": "code",
   "execution_count": 40,
   "metadata": {},
   "outputs": [],
   "source": [
    "ll.prepend(500)"
   ]
  },
  {
   "cell_type": "code",
   "execution_count": 41,
   "metadata": {},
   "outputs": [
    {
     "data": {
      "text/plain": [
       "'[500, 10, 20, 30, 40, 50, 60]'"
      ]
     },
     "execution_count": 41,
     "metadata": {},
     "output_type": "execute_result"
    }
   ],
   "source": [
    "ll.__repr__()"
   ]
  },
  {
   "cell_type": "code",
   "execution_count": 42,
   "metadata": {},
   "outputs": [],
   "source": [
    "ll.insert(200,1)\n",
    "ll.delete(50)\n"
   ]
  },
  {
   "cell_type": "code",
   "execution_count": 43,
   "metadata": {},
   "outputs": [
    {
     "data": {
      "text/plain": [
       "'[500, 200, 10, 20, 30, 40, 60]'"
      ]
     },
     "execution_count": 43,
     "metadata": {},
     "output_type": "execute_result"
    }
   ],
   "source": [
    "ll.__repr__()"
   ]
  },
  {
   "cell_type": "markdown",
   "metadata": {},
   "source": [
    "Double Linked List"
   ]
  },
  {
   "cell_type": "code",
   "execution_count": 44,
   "metadata": {},
   "outputs": [],
   "source": [
    "class node:\n",
    "    def __init__(self, value):\n",
    "        self.value = value\n",
    "        self.next = None\n",
    "        self.previous = None"
   ]
  },
  {
   "cell_type": "code",
   "execution_count": 45,
   "metadata": {},
   "outputs": [],
   "source": [
    "class DoubleLinkedList:\n",
    "    def __init__(self):\n",
    "        self.head = None\n",
    "        self.tail = None\n",
    "        \n",
    "    # o(n) Linear time    \n",
    "    def __repr__(self):\n",
    "        if self.head is None:\n",
    "            return \"[]\"\n",
    "        else:\n",
    "            last = self.head\n",
    "            return_string = f\"[{last.value}\"\n",
    "            \n",
    "            while last.next:\n",
    "                 last = last.next\n",
    "                 return_string += f\", {last.value}\"\n",
    "                 \n",
    "            return_string += \"]\"\n",
    "            return return_string \n",
    "                \n",
    "    \n",
    "    # o(n) Linear time\n",
    "    def __contains__(self, value):\n",
    "        last = self.head\n",
    "        while last.next is not None:\n",
    "            if last.value == value:\n",
    "                return True\n",
    "            last = last.next\n",
    "        \n",
    "        return False\n",
    "      \n",
    "    # o(n) Linear time\n",
    "    def __len__(self):\n",
    "        last = self.head\n",
    "        count = 0\n",
    "        while last.next is not None:\n",
    "            last = last.next\n",
    "            count+=1\n",
    "            \n",
    "        return count\n",
    "    \n",
    "    # o(1) - constant time\n",
    "    def append(self, value):\n",
    "        if self.head is None:\n",
    "            self.head = node(value)\n",
    "            self.tail = self.head\n",
    "            \n",
    "        else:\n",
    "            last_node = node(value)\n",
    "            last_node.previous = self.tail\n",
    "            self.tail.next = last_node\n",
    "            self.tail = last_node\n",
    "            \n",
    "    # o(1) - constant time\n",
    "    def prepend(self, value):\n",
    "        if self.head is None:\n",
    "            self.head = node(value)\n",
    "            self.tail = self.head\n",
    "        else:\n",
    "            first_node = node(value)\n",
    "            first_node.next = self.head\n",
    "            self.head.previous = first_node\n",
    "            self.head = first_node\n",
    "    \n",
    "    # o(n) - Linear time\n",
    "    def insert(self, value, index):\n",
    "        if index == 0:\n",
    "            self.prepend(value)\n",
    "            \n",
    "        else:\n",
    "            if self.head is None:\n",
    "                raise ValueError(\"Out of Index bounds\")\n",
    "            \n",
    "            else:\n",
    "                last = self.head\n",
    "                \n",
    "                for i in range(index-1):\n",
    "                    if last.next is None:\n",
    "                        raise ValueError(\"Out of Index bounds\")\n",
    "                    last = last.next\n",
    "                    \n",
    "                new_node = node(value)\n",
    "                new_node.next = last.next\n",
    "                new_node.previous = last\n",
    "                if last.next.next is not None:\n",
    "                    last.next.previous = new_node\n",
    "                last.next = new_node\n",
    "            \n",
    "    def delete(self, value):\n",
    "        last = self.head\n",
    "        \n",
    "        if last is not None:\n",
    "            if last.value == value:\n",
    "                self.head = last.next\n",
    "                \n",
    "            else:\n",
    "                while last.next:\n",
    "                    if last.next.value == value:\n",
    "                        if last.next.next is not None:\n",
    "                            last.next.next.previous = last \n",
    "                        last.next = last.next.next\n",
    "                        break\n",
    "                    last = last.next  \n",
    "                    \n",
    "    def pop(self, index):\n",
    "        if self.head is None:\n",
    "            raise ValueError(\"Out of index bounds\")\n",
    "        \n",
    "        else:\n",
    "            last = self.head\n",
    "            \n",
    "            for i in range(index-1):\n",
    "                if last.next is None:\n",
    "                    raise ValueError(\"Out of index bounds\")\n",
    "                last = last.next\n",
    "                \n",
    "            if last.next is None:\n",
    "                raise ValueError(\"Out of index bounds\")\n",
    "            \n",
    "            else:\n",
    "                if last.next.next is not None:\n",
    "                    last.next.next.previous = last\n",
    "                last.next == last.next.next\n",
    "    \n",
    "\n",
    "    def get(self, index):\n",
    "        if self.head is None:\n",
    "            raise ValueError(\"out of index bounds\")\n",
    "        \n",
    "        else:\n",
    "            last = self.head\n",
    "            for i in range(index):\n",
    "                if last.next is None:\n",
    "                    raise ValueError(\"out of index bounds\")\n",
    "                \n",
    "                last = last.next\n",
    "                 \n",
    "            return last.value\n",
    "    \n",
    "        \n",
    "    "
   ]
  },
  {
   "cell_type": "code",
   "execution_count": 46,
   "metadata": {},
   "outputs": [],
   "source": [
    "dll = DoubleLinkedList()\n",
    "\n",
    "dll.append(100)\n",
    "dll.append(200)\n",
    "dll.append(300)\n",
    "dll.append(400)"
   ]
  },
  {
   "cell_type": "code",
   "execution_count": 47,
   "metadata": {},
   "outputs": [
    {
     "data": {
      "text/plain": [
       "'[100, 200, 300, 400]'"
      ]
     },
     "execution_count": 47,
     "metadata": {},
     "output_type": "execute_result"
    }
   ],
   "source": [
    "dll.__repr__()"
   ]
  },
  {
   "cell_type": "code",
   "execution_count": 48,
   "metadata": {},
   "outputs": [
    {
     "data": {
      "text/plain": [
       "'[100, 200, 300, 1000, 400]'"
      ]
     },
     "execution_count": 48,
     "metadata": {},
     "output_type": "execute_result"
    }
   ],
   "source": [
    "dll.insert(1000,3)\n",
    "dll.__repr__()"
   ]
  },
  {
   "cell_type": "code",
   "execution_count": 49,
   "metadata": {},
   "outputs": [
    {
     "data": {
      "text/plain": [
       "'[200, 300, 1000, 400]'"
      ]
     },
     "execution_count": 49,
     "metadata": {},
     "output_type": "execute_result"
    }
   ],
   "source": [
    "dll.delete(100)\n",
    "dll.__repr__()"
   ]
  },
  {
   "cell_type": "code",
   "execution_count": 50,
   "metadata": {},
   "outputs": [
    {
     "data": {
      "text/plain": [
       "'[200, 300, 1000, 400]'"
      ]
     },
     "execution_count": 50,
     "metadata": {},
     "output_type": "execute_result"
    }
   ],
   "source": [
    "dll.pop(3)\n",
    "dll.__repr__()"
   ]
  },
  {
   "cell_type": "code",
   "execution_count": null,
   "metadata": {},
   "outputs": [],
   "source": []
  }
 ],
 "metadata": {
  "kernelspec": {
   "display_name": "reg",
   "language": "python",
   "name": "python3"
  },
  "language_info": {
   "codemirror_mode": {
    "name": "ipython",
    "version": 3
   },
   "file_extension": ".py",
   "mimetype": "text/x-python",
   "name": "python",
   "nbconvert_exporter": "python",
   "pygments_lexer": "ipython3",
   "version": "3.12.4"
  }
 },
 "nbformat": 4,
 "nbformat_minor": 2
}
