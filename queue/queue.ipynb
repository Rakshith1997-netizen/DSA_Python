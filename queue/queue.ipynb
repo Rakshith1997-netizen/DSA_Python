{
 "cells": [
  {
   "cell_type": "markdown",
   "metadata": {},
   "source": [
    "Queue\n",
    "Operations on FIFO principle"
   ]
  },
  {
   "cell_type": "markdown",
   "metadata": {},
   "source": [
    "Enqueue in Rear end\n",
    "Dequeue in front\n",
    "peek in front\n"
   ]
  },
  {
   "cell_type": "code",
   "execution_count": 1,
   "metadata": {},
   "outputs": [],
   "source": [
    "class Node:\n",
    "    def __init__(self, value):\n",
    "        self.value = value\n",
    "        self.next = None"
   ]
  },
  {
   "cell_type": "code",
   "execution_count": 6,
   "metadata": {},
   "outputs": [],
   "source": [
    "class Queue:\n",
    "    def __init__(self):\n",
    "        self.front = None\n",
    "        self.rear = None\n",
    "        self.size = 0\n",
    "    \n",
    "    # o(1) - constant time\n",
    "    def __len__(self):\n",
    "        return self.size\n",
    "    \n",
    "    # o(n) - Linear time\n",
    "    def __repr__(self):\n",
    "        items = []\n",
    "        current_item = self.front\n",
    "        while current_item is not None:\n",
    "            items.append(str(current_item.value))\n",
    "            current_item = current_item.next\n",
    "        \n",
    "        return ','.join(items)    \n",
    "    \n",
    "    # o(1) -  constant time\n",
    "    def enqueue(self,value):\n",
    "        new_node = Node(value)\n",
    "        \n",
    "        if self.rear is None:\n",
    "            self.front = self.rear = new_node\n",
    "            \n",
    "        else:\n",
    "            self.rear.next = new_node\n",
    "            self.rear = new_node\n",
    "        \n",
    "        self.size+=1\n",
    "    \n",
    "    # o(1) -  constant time\n",
    "    def dequeue(self):\n",
    "        if self.front is None:\n",
    "            raise ValueError(\"Queue is Empty\")\n",
    "        \n",
    "        dequeue_value = self.front.value\n",
    "        self.front = self.front.next\n",
    "        \n",
    "        if self.front is None:\n",
    "            self.rear = None\n",
    "        \n",
    "        self.size-=1\n",
    "        return dequeue_value\n",
    "\n",
    "        \n",
    "        \n",
    "    # o(1) -  constant time\n",
    "    def peek(self):\n",
    "        if self.is_empty:\n",
    "            raise ValueError(\"Queue is Empty\")\n",
    "        \n",
    "        return self.front.value\n",
    "    \n",
    "    # o(1) -  constant time\n",
    "    def is_empty(self):\n",
    "        return self.front is None"
   ]
  },
  {
   "cell_type": "code",
   "execution_count": 7,
   "metadata": {},
   "outputs": [
    {
     "name": "stdout",
     "output_type": "stream",
     "text": [
      "10,12,15,100\n",
      "4\n",
      "10\n",
      "12\n",
      "15,100\n",
      "2\n"
     ]
    }
   ],
   "source": [
    "queue = Queue()\n",
    "\n",
    "queue.enqueue(10)\n",
    "queue.enqueue(12)\n",
    "queue.enqueue(15)\n",
    "queue.enqueue(100)\n",
    "\n",
    "print(queue)\n",
    "\n",
    "print(len(queue))\n",
    "\n",
    "print(queue.dequeue())\n",
    "print(queue.dequeue())\n",
    "\n",
    "print(queue)\n",
    "\n",
    "print(len(queue))\n"
   ]
  }
 ],
 "metadata": {
  "kernelspec": {
   "display_name": "reg",
   "language": "python",
   "name": "python3"
  },
  "language_info": {
   "codemirror_mode": {
    "name": "ipython",
    "version": 3
   },
   "file_extension": ".py",
   "mimetype": "text/x-python",
   "name": "python",
   "nbconvert_exporter": "python",
   "pygments_lexer": "ipython3",
   "version": "3.12.4"
  }
 },
 "nbformat": 4,
 "nbformat_minor": 2
}
