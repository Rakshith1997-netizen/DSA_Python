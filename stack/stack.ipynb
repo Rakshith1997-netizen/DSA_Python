{
 "cells": [
  {
   "cell_type": "markdown",
   "metadata": {},
   "source": [
    "Stack\n",
    "operates on LIFO principle (opposite to queue)"
   ]
  },
  {
   "cell_type": "markdown",
   "metadata": {},
   "source": [
    "3 operations on Stack\n",
    "1. Push\n",
    "2. Pop\n",
    "3. Peek"
   ]
  },
  {
   "cell_type": "code",
   "execution_count": 1,
   "metadata": {},
   "outputs": [],
   "source": [
    "class Node:\n",
    "    def __init__(self, value):\n",
    "        self.value = value\n",
    "        self.next = None\n",
    "        \n",
    "class Stack:\n",
    "    def __init__(self):\n",
    "        self.top = None\n",
    "        self.size = 0\n",
    "        \n",
    "    # o(1) - constant time\n",
    "    def __len__(self):\n",
    "        return self.size\n",
    "    \n",
    "    # o(n) - Linear time\n",
    "    def __repr__(self):\n",
    "        items = []\n",
    "        current_item = self.top\n",
    "        while current_item is not None:\n",
    "            items.append(str(current_item.value))\n",
    "            current_item = current_item.next\n",
    "        \n",
    "        return ','.join(items)\n",
    "    \n",
    "    # o(1) - constant time\n",
    "    def push(self,value):\n",
    "        new_node = Node(value)\n",
    "        new_node.next = self.top\n",
    "        self.top = new_node\n",
    "        \n",
    "        self.size+=1\n",
    "        \n",
    "    # o(1) - constant time\n",
    "    def pop(self):\n",
    "        if self.top is None:\n",
    "            raise ValueError(\"Stack is Empty\")\n",
    "        \n",
    "        pop_value = self.top.value\n",
    "        self.top = self.top.next\n",
    "        \n",
    "        self.size-=1\n",
    "        return pop_value\n",
    "    \n",
    "    # o(1) - constant time\n",
    "    def peek(self):\n",
    "        if self.top is None:\n",
    "            raise ValueError(\"Stack is Empty\")\n",
    "        \n",
    "        return self.top.value\n",
    "    \n",
    "    def is_empty(self):\n",
    "        return self.top is None\n",
    "    \n",
    "    "
   ]
  },
  {
   "cell_type": "code",
   "execution_count": 2,
   "metadata": {},
   "outputs": [
    {
     "name": "stdout",
     "output_type": "stream",
     "text": [
      "0,500,-10,30,20,10\n",
      "0\n",
      "0\n",
      "500,-10,30,20,10\n",
      "500\n",
      "-10,30,20,10\n",
      "-10\n",
      "30,20,10\n",
      "False\n"
     ]
    }
   ],
   "source": [
    "stack = Stack()\n",
    "stack.push(10)\n",
    "stack.push(20)\n",
    "stack.push(30)\n",
    "\n",
    "stack.push(-10)\n",
    "stack.push(500)\n",
    "stack.push(0)\n",
    "\n",
    "print(stack)\n",
    "\n",
    "print(stack.peek())\n",
    "\n",
    "print(stack.pop())\n",
    "print(stack)\n",
    "print(stack.pop())\n",
    "print(stack)\n",
    "print(stack.pop())\n",
    "print(stack)\n",
    "\n",
    "print(stack.is_empty())"
   ]
  }
 ],
 "metadata": {
  "kernelspec": {
   "display_name": "reg",
   "language": "python",
   "name": "python3"
  },
  "language_info": {
   "codemirror_mode": {
    "name": "ipython",
    "version": 3
   },
   "file_extension": ".py",
   "mimetype": "text/x-python",
   "name": "python",
   "nbconvert_exporter": "python",
   "pygments_lexer": "ipython3",
   "version": "3.12.4"
  }
 },
 "nbformat": 4,
 "nbformat_minor": 2
}
