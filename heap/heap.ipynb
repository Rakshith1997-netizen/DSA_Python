{
 "cells": [
  {
   "cell_type": "markdown",
   "metadata": {},
   "source": [
    "Min Heap"
   ]
  },
  {
   "cell_type": "code",
   "execution_count": null,
   "metadata": {},
   "outputs": [],
   "source": [
    "class MinHeap:\n",
    "    \n",
    "    def __init__(self):\n",
    "        self.heap = []\n",
    "        \n",
    "    def __len__(self):\n",
    "        return len(self.heap)\n",
    "    \n",
    "    def __repr__(self):\n",
    "        return str(self.heap)    \n",
    "\n",
    "    # O(log n)\n",
    "    def insert(self, key, value):\n",
    "        self.heap.append((key,value))\n",
    "        self._sift_up(len(self.heap)-1)\n",
    "    \n",
    "    # O(1)\n",
    "    def peek_min(self):\n",
    "        if not self.heap:\n",
    "            raise IndexError(\"Empty Heap\")\n",
    "        return self.heap[0]\n",
    "    \n",
    "    # O(log n)\n",
    "    def extract_min(self):\n",
    "        if not self.heap:\n",
    "            raise IndexError(\"Empty Heap\")\n",
    "        \n",
    "        min_element = self.heap[0]\n",
    "        last_element = self.heap.pop()\n",
    "        \n",
    "        if self.heap:\n",
    "            self.heap[0] = last_element\n",
    "            self._sift_down(0)\n",
    "            \n",
    "        return min_element\n",
    "            \n",
    "    # O(n)\n",
    "    def heapify(self, elements):\n",
    "        self.heap = list(elements)\n",
    "        \n",
    "        for i in reversed(range(self._parent(len(self.heap)-1)+1)):\n",
    "            self._sift_down(i)\n",
    "    \n",
    "    # O(n)\n",
    "    def meld(self, other_heap):\n",
    "        combined_heap = self.heap + other_heap\n",
    "        self.heapify(combined_heap)\n",
    "        \n",
    "    \n",
    "    # O(1)\n",
    "    def _parent(self, index):\n",
    "        return (index + 1) // 2 if index!=0 else None\n",
    "    \n",
    "    # O(1)\n",
    "    def _left(self, index):\n",
    "        left = 2 * index + 1\n",
    "        return left if left < len(self.heap) else None\n",
    "    \n",
    "    # O(1)\n",
    "    def _right(self, index):\n",
    "        right = 2 * index + 2\n",
    "        return right if right < len(self.heap) else None\n",
    "    \n",
    "    # O(log n)\n",
    "    def _sift_up(self, index):\n",
    "        parent_index = self._parent(index)\n",
    "        \n",
    "        while parent_index is not None and self.heap[index][0] < self.heap[parent_index][0]:\n",
    "            self.heap[index], self.heap[parent_index] = self.heap[parent_index], self.heap[index]\n",
    "            index = parent_index\n",
    "            parent_index = self._parent(index)\n",
    "    \n",
    "    # O(log n)\n",
    "    def _sift_down(self, index):\n",
    "        while True:\n",
    "            smallest = index\n",
    "            left = self._left(index)\n",
    "            right = self._right(index)\n",
    "            \n",
    "            if left is not None and self.heap[left][0] < self.heap[smallest][0]:\n",
    "                smallest = left\n",
    "                \n",
    "            if right is not None and self.heap[right][0] < self.heap[smallest][0]:\n",
    "                smallest = right\n",
    "                \n",
    "            if smallest == index:\n",
    "                break\n",
    "            \n",
    "            self.heap[index], self.heap[smallest] == self.heap[smallest], self.heap[index]\n",
    "            index = smalles t\n",
    "                 \n",
    "    \n",
    "    "
   ]
  },
  {
   "cell_type": "code",
   "execution_count": 24,
   "metadata": {},
   "outputs": [
    {
     "name": "stdout",
     "output_type": "stream",
     "text": [
      "[[10, '10'], [9, '9'], [8, '8'], [7, '7'], [6, '6'], [5, '5'], [4, '4'], [3, '3'], [2, '2'], [1, '1']]\n",
      "[1, 2, 4, 3, 6, 5, 8, 10, 7, 9]\n"
     ]
    }
   ],
   "source": [
    "min_heap = MinHeap()\n",
    "min_heap.heapify([[10,'10'],[9,'9'],[8,'8'],[7,'7'],[6,'6'],[5,'5'],[4,'4'],[3,'3'],[2,'2'],[1,'1']])\n",
    "\n",
    "print(min_heap) \n",
    "\n",
    "import heapq\n",
    "mylist = [i for i in reversed(range(1,11))]\n",
    "heapq.heapify(mylist)\n",
    "print(mylist)"
   ]
  },
  {
   "cell_type": "code",
   "execution_count": 25,
   "metadata": {},
   "outputs": [
    {
     "data": {
      "text/plain": [
       "[10, 9, 8, 7, 6, 5, 4, 3, 2, 1]"
      ]
     },
     "execution_count": 25,
     "metadata": {},
     "output_type": "execute_result"
    }
   ],
   "source": [
    "mylist = [i for i in range(10,0,-1)]\n",
    "mylist\n",
    "\n",
    "rev = [i for i in reversed(range(1,11))]\n",
    "rev"
   ]
  },
  {
   "cell_type": "code",
   "execution_count": 37,
   "metadata": {},
   "outputs": [
    {
     "name": "stdout",
     "output_type": "stream",
     "text": [
      "1\n",
      "-1\n"
     ]
    },
    {
     "data": {
      "text/plain": [
       "[1, -1]"
      ]
     },
     "execution_count": 37,
     "metadata": {},
     "output_type": "execute_result"
    }
   ],
   "source": [
    "def searchRange(nums, target):\n",
    "        if not nums:\n",
    "            return [-1,-1]\n",
    "        i=0\n",
    "        j=len(nums)-1\n",
    "        start = len(nums)+1\n",
    "        end = -1\n",
    "        while i<j:\n",
    "            if nums[i]==target:\n",
    "                start = min(i, start)              \n",
    "\n",
    "            if nums[j]==target:\n",
    "                end = max(end, j)\n",
    "            \n",
    "\n",
    "            i+=1\n",
    "            j-=1\n",
    "        print(start)\n",
    "        print(end)\n",
    "        if start<len(nums)+1 and end:\n",
    "            return [start,end]\n",
    "        else:\n",
    "            return [-1,-1]\n",
    " \n",
    "nums = [5,7,7,8,8,10]\n",
    "target = 7      \n",
    "searchRange(nums, target)"
   ]
  },
  {
   "cell_type": "code",
   "execution_count": 38,
   "metadata": {},
   "outputs": [],
   "source": [
    "L = [[\"5\",\"3\",\".\",\".\",\"7\",\".\",\".\",\".\",\".\"],[\"6\",\".\",\".\",\"1\",\"9\",\"5\",\".\",\".\",\".\"],[\".\",\"9\",\"8\",\".\",\".\",\".\",\".\",\"6\",\".\"],[\"8\",\".\",\".\",\".\",\"6\",\".\",\".\",\".\",\"3\"],[\"4\",\".\",\".\",\"8\",\".\",\"3\",\".\",\".\",\"1\"],[\"7\",\".\",\".\",\".\",\"2\",\".\",\".\",\".\",\"6\"],[\".\",\"6\",\".\",\".\",\".\",\".\",\"2\",\"8\",\".\"],[\".\",\".\",\".\",\"4\",\"1\",\"9\",\".\",\".\",\"5\"],[\".\",\".\",\".\",\".\",\"8\",\".\",\".\",\"7\",\"9\"]]"
   ]
  },
  {
   "cell_type": "code",
   "execution_count": 42,
   "metadata": {},
   "outputs": [
    {
     "name": "stdout",
     "output_type": "stream",
     "text": [
      "New Line\n",
      "\n",
      "5\n",
      "3\n",
      "7\n",
      "New Line\n",
      "\n",
      "6\n",
      "1\n",
      "9\n",
      "5\n",
      "New Line\n",
      "\n",
      "9\n",
      "8\n",
      "6\n",
      "New Line\n",
      "\n",
      "8\n",
      "6\n",
      "3\n",
      "New Line\n",
      "\n",
      "4\n",
      "8\n",
      "3\n",
      "1\n",
      "New Line\n",
      "\n",
      "7\n",
      "2\n",
      "6\n",
      "New Line\n",
      "\n",
      "6\n",
      "2\n",
      "8\n",
      "New Line\n",
      "\n",
      "4\n",
      "1\n",
      "9\n",
      "5\n",
      "New Line\n",
      "\n",
      "8\n",
      "7\n",
      "9\n"
     ]
    }
   ],
   "source": [
    "valid = True\n",
    "for i in range(len(L)):\n",
    "    s = set()\n",
    "    print(\"New Line\\n\")\n",
    "    for j in range(len(L)):\n",
    "        if L[i][j]!='.':\n",
    "            print(L[i][j])\n",
    "\n",
    "# print(valid)"
   ]
  },
  {
   "cell_type": "code",
   "execution_count": 44,
   "metadata": {},
   "outputs": [
    {
     "name": "stdout",
     "output_type": "stream",
     "text": [
      "New Line\n",
      "\n",
      "5\n",
      "6\n",
      "8\n",
      "4\n",
      "7\n",
      "New Line\n",
      "\n",
      "3\n",
      "9\n",
      "6\n",
      "New Line\n",
      "\n",
      "8\n",
      "New Line\n",
      "\n",
      "1\n",
      "8\n",
      "4\n",
      "New Line\n",
      "\n",
      "7\n",
      "9\n",
      "6\n",
      "2\n",
      "1\n",
      "8\n",
      "New Line\n",
      "\n",
      "5\n",
      "3\n",
      "9\n",
      "New Line\n",
      "\n",
      "2\n",
      "New Line\n",
      "\n",
      "6\n",
      "8\n",
      "7\n",
      "New Line\n",
      "\n",
      "3\n",
      "1\n",
      "6\n",
      "5\n",
      "9\n"
     ]
    }
   ],
   "source": [
    "for i in range(len(L)):\n",
    "    s = set()\n",
    "    print(\"New Line\\n\")\n",
    "    for j in range(len(L)):\n",
    "        if L[j][i]!='.':\n",
    "            print(L[j][i])"
   ]
  },
  {
   "cell_type": "code",
   "execution_count": null,
   "metadata": {},
   "outputs": [],
   "source": [
    "[[\".\",\".\",\".\",\".\",\"5\",\".\",\".\",\"1\",\".\"],\n",
    " [\".\",\"4\",\".\",\"3\",\".\",\".\",\".\",\".\",\".\"],\n",
    " [\".\",\".\",\".\",\".\",\".\",\"3\",\".\",\".\",\"1\"],\n",
    " [\"8\",\".\",\".\",\".\",\".\",\".\",\".\",\"2\",\".\"],\n",
    " [\".\",\".\",\"2\",\".\",\"7\",\".\",\".\",\".\",\".\"],\n",
    " [\".\",\"1\",\"5\",\".\",\".\",\".\",\".\",\".\",\".\"],\n",
    " [\".\",\".\",\".\",\".\",\".\",\"2\",\".\",\".\",\".\"],\n",
    " [\".\",\"2\",\".\",\"9\",\".\",\".\",\".\",\".\",\".\"],\n",
    " [\".\",\".\",\"4\",\".\",\".\",\".\",\".\",\".\",\".\"]]"
   ]
  },
  {
   "cell_type": "code",
   "execution_count": 46,
   "metadata": {},
   "outputs": [
    {
     "name": "stdout",
     "output_type": "stream",
     "text": [
      "6\n"
     ]
    }
   ],
   "source": [
    "L = [5,6,1,3,7]\n",
    "\n",
    "first = second = L[0]\n",
    "\n",
    "for num in L:\n",
    "    if num > first:\n",
    "        second = first\n",
    "        first = num\n",
    "    \n",
    "    if first > num > second:\n",
    "        second = num\n",
    "        \n",
    "print(second)"
   ]
  },
  {
   "cell_type": "code",
   "execution_count": 47,
   "metadata": {},
   "outputs": [
    {
     "name": "stdout",
     "output_type": "stream",
     "text": [
      "[5, 4, 3, 2, 1]\n"
     ]
    }
   ],
   "source": [
    "arr = [1,2,3,4,5]\n",
    "\n",
    "n = len(arr)\n",
    "for i in range(n // 2):\n",
    "    arr[i], arr[n - i - 1] = arr[n - i - 1], arr[i]\n",
    "print(arr)"
   ]
  }
 ],
 "metadata": {
  "kernelspec": {
   "display_name": "env",
   "language": "python",
   "name": "python3"
  },
  "language_info": {
   "codemirror_mode": {
    "name": "ipython",
    "version": 3
   },
   "file_extension": ".py",
   "mimetype": "text/x-python",
   "name": "python",
   "nbconvert_exporter": "python",
   "pygments_lexer": "ipython3",
   "version": "3.12.4"
  }
 },
 "nbformat": 4,
 "nbformat_minor": 2
}
