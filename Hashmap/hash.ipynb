{
 "cells": [
  {
   "cell_type": "markdown",
   "metadata": {},
   "source": [
    "Hash Map or Hast Table or Dictionary\n",
    "Key-value pairs\n",
    "key is unique"
   ]
  },
  {
   "cell_type": "code",
   "execution_count": 9,
   "metadata": {},
   "outputs": [],
   "source": [
    "class HashMap:\n",
    "    \n",
    "    def __init__(self,capacity):\n",
    "        self.capacity = capacity\n",
    "        self.size = 0\n",
    "        self.buckets = [[] for _ in range(capacity)]\n",
    "    \n",
    "    # o(1) - constant time    \n",
    "    def __len__(self):\n",
    "        return self.size\n",
    "    \n",
    "    # Average: o(1) - constant time \n",
    "    # worst case: o(n) - linear time\n",
    "    # depends on quality of hash function\n",
    "    def __containts__(self, key):\n",
    "        index = self._hash_function(key)\n",
    "        bucket = self.buckets[index]\n",
    "        \n",
    "        for k,v in bucket:\n",
    "            if k == key:\n",
    "                return True\n",
    "            \n",
    "        return False\n",
    "    \n",
    "    # Average: o(1) - constant time \n",
    "    # worst case: o(n) - linear time\n",
    "    # depends on quality of hash function\n",
    "    def put(self, key, value):\n",
    "        index = self._hash_function(key)\n",
    "        bucket = self.buckets[index]\n",
    "        \n",
    "        for i, (k,v) in enumerate(bucket):\n",
    "            if k == key:\n",
    "                bucket[i] = (key, value)\n",
    "                break\n",
    "            \n",
    "        else:\n",
    "            bucket.append((key, value))\n",
    "            self.size += 1\n",
    "    \n",
    "    # Average: o(1) - constant time \n",
    "    # worst case: o(n) - linear time\n",
    "    # depends on quality of hash function\n",
    "    def get(self, key):\n",
    "        index = self._hash_function(key)\n",
    "        bucket = self.buckets[index]\n",
    "        \n",
    "        for k,v in bucket:\n",
    "            if k == key:\n",
    "                return v\n",
    "            \n",
    "        raise KeyError(\"Key not found\")\n",
    "    \n",
    "    # Average: o(1) - constant time \n",
    "    # worst case: o(n) - linear time\n",
    "    # depends on quality of hash function\n",
    "    def remove(self, key):\n",
    "        index = self._hash_function(key)\n",
    "        bucket = self.buckets[index]\n",
    "        \n",
    "        for i, (k,v) in enumerate(bucket):\n",
    "            if k == key:\n",
    "                del bucket[i]\n",
    "                self.size -=1 \n",
    "                break\n",
    "            \n",
    "        else:\n",
    "            raise KeyError(\"Key not found\")\n",
    "    \n",
    "    # o(n) -  linear time\n",
    "    def keys(self):\n",
    "        return [k for bucket in self.buckets for k, _ in bucket]\n",
    "    \n",
    "    # o(n) -  linear time\n",
    "    def values(self):\n",
    "        return [v for bucket in self.buckets for _, v in bucket]\n",
    "    \n",
    "    # o(n) -  linear time\n",
    "    def items(self):\n",
    "        return [(k,v) for bucket in self.buckets for k, v in bucket]\n",
    "    \n",
    "    # o(k) - linear in key length\n",
    "    def _hash_function(self, key):\n",
    "        key_string = str(key)\n",
    "        hash_result = 0\n",
    "        \n",
    "        for c in key_string:\n",
    "            hash_result = (hash_result * 31 + ord(c)) % self.capacity    \n",
    "        \n",
    "        return hash_result\n",
    "    \n",
    "    \n",
    "        \n",
    "        "
   ]
  },
  {
   "cell_type": "code",
   "execution_count": 10,
   "metadata": {},
   "outputs": [],
   "source": [
    "hashmap = HashMap(32)\n",
    "\n",
    "hashmap.put(\"name\",\"Mike\")\n",
    "hashmap.put(\"age\",\"30\")\n",
    "hashmap.put(\"job\",\"programmar\")"
   ]
  },
  {
   "cell_type": "code",
   "execution_count": 11,
   "metadata": {},
   "outputs": [
    {
     "data": {
      "text/plain": [
       "[('name', 'Mike'), ('job', 'programmar'), ('age', '30')]"
      ]
     },
     "execution_count": 11,
     "metadata": {},
     "output_type": "execute_result"
    }
   ],
   "source": [
    "hashmap.items()"
   ]
  },
  {
   "cell_type": "code",
   "execution_count": 12,
   "metadata": {},
   "outputs": [
    {
     "data": {
      "text/plain": [
       "[[],\n",
       " [],\n",
       " [],\n",
       " [],\n",
       " [],\n",
       " [],\n",
       " [],\n",
       " [],\n",
       " [],\n",
       " [],\n",
       " [],\n",
       " [('name', 'Mike')],\n",
       " [],\n",
       " [],\n",
       " [],\n",
       " [],\n",
       " [],\n",
       " [],\n",
       " [],\n",
       " [],\n",
       " [],\n",
       " [],\n",
       " [],\n",
       " [],\n",
       " [],\n",
       " [],\n",
       " [],\n",
       " [],\n",
       " [],\n",
       " [('job', 'programmar')],\n",
       " [],\n",
       " [('age', '30')]]"
      ]
     },
     "execution_count": 12,
     "metadata": {},
     "output_type": "execute_result"
    }
   ],
   "source": [
    "hashmap.buckets"
   ]
  },
  {
   "cell_type": "code",
   "execution_count": 15,
   "metadata": {},
   "outputs": [
    {
     "data": {
      "image/png": "[encoded data removed]",
      "text/plain": [
       "<Figure size 640x480 with 1 Axes>"
      ]
     },
     "metadata": {},
     "output_type": "display_data"
    }
   ],
   "source": [
    "import uuid\n",
    "import matplotlib.pyplot as plt\n",
    "\n",
    "hash_map = HashMap(100)\n",
    "\n",
    "for _ in range(50000):\n",
    "    hash_map.put(uuid.uuid4(), 'some_value')\n",
    "\n",
    "X = []\n",
    "Y = []\n",
    "\n",
    "for i, bucket in enumerate(hash_map.buckets):\n",
    "    X.append(i)\n",
    "    Y.append(len(bucket))\n",
    "    \n",
    "plt.bar(X, Y)\n",
    "plt.show()\n",
    "    \n",
    "    \n",
    "    \n",
    "    "
   ]
  }
 ],
 "metadata": {
  "kernelspec": {
   "display_name": "env",
   "language": "python",
   "name": "python3"
  },
  "language_info": {
   "codemirror_mode": {
    "name": "ipython",
    "version": 3
   },
   "file_extension": ".py",
   "mimetype": "text/x-python",
   "name": "python",
   "nbconvert_exporter": "python",
   "pygments_lexer": "ipython3",
   "version": "3.12.4"
  }
 },
 "nbformat": 4,
 "nbformat_minor": 2
}
